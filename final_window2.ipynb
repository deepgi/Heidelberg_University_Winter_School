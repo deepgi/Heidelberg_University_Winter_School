{
 "cells": [
  {
   "cell_type": "code",
   "execution_count": 104,
   "metadata": {},
   "outputs": [],
   "source": [
    "import cv2\n",
    "import glob\n",
    "import numpy as np\n",
    "from  Tkinter import *\n",
    "import Tkinter, Tkconstants, tkFileDialog\n",
    "from scipy.spatial import distance\n"
   ]
  },
  {
   "cell_type": "code",
   "execution_count": 105,
   "metadata": {},
   "outputs": [
    {
     "name": "stdout",
     "output_type": "stream",
     "text": [
      "[['point1', 2028, 1225, 'C:/Users/Deepanshu/Desktop/winter school/P8/01_Cam\\\\P1110651.JPG']]\n",
      "[['point2', 2028, 1352, 'C:/Users/Deepanshu/Desktop/winter school/P8/01_Cam\\\\P1110651.JPG']]\n",
      "[['point1', 2028, 1225, 'C:/Users/Deepanshu/Desktop/winter school/P8/01_Cam\\\\P1110651.JPG'], ['point1', 912, 1309, 'C:/Users/Deepanshu/Desktop/winter school/P8/01_Cam\\\\P1110663.JPG']]\n",
      "[['point2', 2028, 1352, 'C:/Users/Deepanshu/Desktop/winter school/P8/01_Cam\\\\P1110651.JPG'], ['point2', 915, 1423, 'C:/Users/Deepanshu/Desktop/winter school/P8/01_Cam\\\\P1110663.JPG']]\n",
      "[['point1', 2028, 1225, 'C:/Users/Deepanshu/Desktop/winter school/P8/01_Cam\\\\P1110651.JPG'], ['point1', 912, 1309, 'C:/Users/Deepanshu/Desktop/winter school/P8/01_Cam\\\\P1110663.JPG'], ['point1', 1456, 1426, 'C:/Users/Deepanshu/Desktop/winter school/P8/01_Cam\\\\P1110659.JPG']]\n",
      "[['point2', 2028, 1352, 'C:/Users/Deepanshu/Desktop/winter school/P8/01_Cam\\\\P1110651.JPG'], ['point2', 915, 1423, 'C:/Users/Deepanshu/Desktop/winter school/P8/01_Cam\\\\P1110663.JPG'], ['point2', 1455, 1543, 'C:/Users/Deepanshu/Desktop/winter school/P8/01_Cam\\\\P1110659.JPG']]\n",
      "[['point1', 2028, 1225, 'C:/Users/Deepanshu/Desktop/winter school/P8/01_Cam\\\\P1110651.JPG'], ['point1', 912, 1309, 'C:/Users/Deepanshu/Desktop/winter school/P8/01_Cam\\\\P1110663.JPG'], ['point1', 1456, 1426, 'C:/Users/Deepanshu/Desktop/winter school/P8/01_Cam\\\\P1110659.JPG'], ['point1', 763, 1386, 'C:/Users/Deepanshu/Desktop/winter school/P8/01_Cam\\\\P1110664.JPG']]\n",
      "[['point2', 2028, 1352, 'C:/Users/Deepanshu/Desktop/winter school/P8/01_Cam\\\\P1110651.JPG'], ['point2', 915, 1423, 'C:/Users/Deepanshu/Desktop/winter school/P8/01_Cam\\\\P1110663.JPG'], ['point2', 1455, 1543, 'C:/Users/Deepanshu/Desktop/winter school/P8/01_Cam\\\\P1110659.JPG'], ['point2', 764, 1510, 'C:/Users/Deepanshu/Desktop/winter school/P8/01_Cam\\\\P1110664.JPG']]\n"
     ]
    }
   ],
   "source": [
    "#[x,y] for each right click event will be stored here\n",
    "rc=list()\n",
    "rc2=list()\n",
    "\n",
    "#this function will be called whenever the mouse is right clicked\n",
    "#def mouse_callback(event, x, y, flags, params):\n",
    "\n",
    "\n",
    "def create_callback(img_index):\n",
    "    def mouse_callback2(event2, x2, y2, flags2, params2):\n",
    "    #left-click event value is 1\n",
    "#     print(\"EVENT: %s\" % event2)\n",
    "        if event2==1:\n",
    "            global rc    \n",
    "            #store the coordinates of the right-click event\n",
    "            rc.append([\"point1\",x2,y2,images[img_index][0]])\n",
    "            #verify that the mouse click has been registered\n",
    "            print (rc)\n",
    "        #right-click event value is 2\n",
    "        if event2==2:\n",
    "            global rc2\n",
    "            #store the coordinates of the right-click event\n",
    "            rc2.append([\"point2\",x2,y2,images[img_index][0]])\n",
    "            #verify that the mouse click has been registered\n",
    "            print (rc2)\n",
    "    return mouse_callback2\n",
    "\n",
    "root = Tk()\n",
    "root = Tk()\n",
    "root.geometry(\"600x100\")\n",
    "def retrieve_input():\n",
    "    global user_name\n",
    "    global user_occupation\n",
    "    user_name=textBox.get(\"1.0\",\"end-1c\")\n",
    "    user_occupation=textBox1.get(\"1.0\",\"end-1c\")\n",
    "w = Label(root, text=\"Hello, Please enter your name in the form: FirstName_LastName\")\n",
    "w1 = Label(root, text=\"Your Occupation\")\n",
    "textBox=Text(root, height=1, width=20)\n",
    "textBox1=Text(root, height=1, width=20)\n",
    "w.pack()\n",
    "textBox.pack()\n",
    "w1.pack()\n",
    "textBox1.pack()\n",
    "buttonCommit=Button(root, height=1, width=20, text=\"Save\",command=lambda:retrieve_input())\n",
    "buttonCommit.pack()\n",
    "root.directory = tkFileDialog.askdirectory()\n",
    "address=root.directory+\"/*.jpg\"\n",
    "root.mainloop()\n",
    "\n",
    "        \n",
    "#importing all images from the folder\n",
    "images = [(file, cv2.imread(file,-1)) for file in glob.glob(r\"{}\".format(address))]\n",
    "\n",
    "\n",
    "scenes=len(images)\n",
    "#opening relevent images:\n",
    "for i, j in zip([5,13], [17,18]):\n",
    "    \n",
    "    img1 = images[i][1]\n",
    "    cv2.namedWindow('image1',cv2.WINDOW_NORMAL)\n",
    "    cv2.resizeWindow('image1', 640, 480)\n",
    "    cv2.moveWindow('image1', 20,20)\n",
    "    \n",
    "    img2=images[j][1]\n",
    "    cv2.namedWindow('image2',cv2.WINDOW_NORMAL)\n",
    "    cv2.resizeWindow('image2', 640, 480)\n",
    "    cv2.moveWindow('image2', 680,20)\n",
    "\n",
    "    #set mouse callback function for window\n",
    "    #cv2.setMouseCallback('image1', mouse_callback)\n",
    "    cv2.setMouseCallback('image1', create_callback(i) )\n",
    "    cv2.imshow('image1', img1)\n",
    "    #cv2.setMouseCallback('image2', mouse_callback)\n",
    "    cv2.setMouseCallback('image2', create_callback(j) )\n",
    "    cv2.imshow('image2', img2)\n",
    "    k2=cv2.waitKey(0)\n",
    "    if k2==27:\n",
    "        cv2.destroyWindow('image1')\n",
    "    k2=cv2.waitKey(0)\n",
    "    if k2==27:\n",
    "        cv2.destroyWindow('image2')"
   ]
  },
  {
   "cell_type": "code",
   "execution_count": 106,
   "metadata": {},
   "outputs": [
    {
     "name": "stdout",
     "output_type": "stream",
     "text": [
      "761\n"
     ]
    }
   ],
   "source": [
    "# Reading camera_v2 text file from Visual SFM output\n",
    "text_file = open(\"cameras_v2.txt\", \"r\")\n",
    "lines = text_file.read().split('\\n')\n",
    "\n",
    "#reading header information\n",
    "numberofimages=int(lines[16])\n",
    "print len(lines)\n",
    "text_file.close()\n",
    "\n",
    "#Reading the image address, names, Rotation matrices(RM), Camera , Focal Length(FL) into seperate lists\n",
    "imagenames=[None]*numberofimages\n",
    "CameraPosition=[None]*numberofimages\n",
    "R_all=[None]*numberofimages\n",
    "FL=[None]*numberofimages\n",
    "for i in range(numberofimages):\n",
    "    imagenames[i]=lines[19+14*i]\n",
    "    CameraPosition[i]=lines[23+14*i]\n",
    "    R_all[i]=[lines[26+14*i],lines[27+14*i],lines[28+14*i]]\n",
    "    FL[i]=lines[20+14*i]\n",
    "\n",
    "# Storing Rotation matrices in proper float format\n",
    "RM = []\n",
    "tempp=[]\n",
    "for i in range(len(R_all)):\n",
    "    for k in range(3):\n",
    "        for j in range(3):\n",
    "            temporary=float((R_all[i][k].split())[j])\n",
    "            tempp.append(temporary)\n",
    "RM = [tempp[x:x+9] for x in range(0, len(tempp),9)]\n",
    "     \n",
    "#Fetching rot matrices for point one\n",
    "index_rot_point1=[]\n",
    "for i in range(len(rc)):\n",
    "    index_rot_point1.append([index for index in range(len(imagenames)) if re.sub(r'\\W+', '',imagenames[index]) == re.sub(r'\\W+', '', rc[i][3])])\n",
    "\n",
    "#Fetching Camera positions:\n",
    "Camera=[]\n",
    "adad=[]\n",
    "for i in range(len(R_all)):\n",
    "        for j in range(3):\n",
    "            ad=(float(CameraPosition[i].split()[j]))\n",
    "            adad.append(ad)\n",
    "Camera = [adad[x:x+3] for x in range(0, len(adad),3)]"
   ]
  },
  {
   "cell_type": "code",
   "execution_count": 107,
   "metadata": {},
   "outputs": [
    {
     "name": "stdout",
     "output_type": "stream",
     "text": [
      "[array([[-0.02002412],\n",
      "       [-0.04375342],\n",
      "       [ 0.00877028],\n",
      "       [ 0.01566962],\n",
      "       [ 0.04195732],\n",
      "       [ 0.00143129],\n",
      "       [-0.03849321],\n",
      "       [ 0.02761376]]), array([[-0.01832228],\n",
      "       [-0.05772567],\n",
      "       [ 0.00760809],\n",
      "       [ 0.01143369],\n",
      "       [ 0.03477797],\n",
      "       [ 0.01011896],\n",
      "       [-0.03315008],\n",
      "       [ 0.03697575]])]\n"
     ]
    }
   ],
   "source": [
    "results=[]\n",
    "residuals=[]\n",
    "for pt in [rc,rc2]:\n",
    "    RL=[] #Rotation matrices\n",
    "    CX=[] #Camera positions\n",
    "    fl=[] #focal lengths\n",
    "    kp=[] #key points\n",
    "#     residue=[] #residual\n",
    "    \n",
    "    # AX=B matrix form\n",
    "    A=np.empty([2*len(index_rot_point1),3])\n",
    "    B=np.empty([2*len(index_rot_point1),1])\n",
    "\n",
    "    for i in range(len(index_rot_point1)):\n",
    "    # RL=Rotation matrices list for the images selected\n",
    "        R111=RM[int(index_rot_point1[i][0])]\n",
    "        RL.append(R111)\n",
    "    # CX=Camera positions list for the images selected\n",
    "        X111=Camera[int(index_rot_point1[i][0])]\n",
    "        CX.append(X111)\n",
    "    # fl=Focal length list for the images selected\n",
    "        f111=(float(FL[int(index_rot_point1[i][0])])*0.002)\n",
    "        fl.append(f111)\n",
    "    # Key point coordinates list    \n",
    "        x1=(-(pt[i][1])+1800)*2*0.001\n",
    "        y1=(-(pt[i][2])+1200)*2*0.001\n",
    "        kpp=[x1,y1]\n",
    "        kp.append(kpp)\n",
    "\n",
    "    # Matrix A\n",
    "        A11=(RL[i][6]*kp[i][0]+fl[i]*RL[i][0])\n",
    "        A12=(RL[i][7]*kp[i][0]+fl[i]*RL[i][1])\n",
    "        A13=(RL[i][8]*kp[i][0]+fl[i]*RL[i][2])\n",
    "        A21=(RL[i][6]*kp[i][1]+fl[i]*RL[i][3])\n",
    "        A22=(RL[i][7]*kp[i][1]+fl[i]*RL[i][4])\n",
    "        A23=(RL[i][8]*kp[i][1]+fl[i]*RL[i][5])\n",
    "\n",
    "    # MAtrix B\n",
    "        B11=CX[i][0]*(RL[i][6]*kp[i][0]+fl[i]*RL[i][0])\n",
    "        B12=CX[i][1]*(RL[i][7]*kp[i][0]+fl[i]*RL[i][1])\n",
    "        B13=CX[i][2]*(RL[i][8]*kp[i][0]+fl[i]*RL[i][2])\n",
    "        B21=CX[i][0]*(RL[i][6]*kp[i][1]+fl[i]*RL[i][3])\n",
    "        B22=CX[i][1]*(RL[i][7]*kp[i][1]+fl[i]*RL[i][4])\n",
    "        B23=CX[i][2]*(RL[i][8]*kp[i][1]+fl[i]*RL[i][5])\n",
    "\n",
    "        A[i*2]=[A11,A12,A13]\n",
    "        A[i*2+1]=[A21,A22,A23]\n",
    "        B[i*2]=[B11+B12+B13]\n",
    "        B[i*2+1]=[B21+B22+B23]\n",
    "\n",
    "# XYZ= 3D coordinates of the two points in the local coordinate system       \n",
    "    XYZ=np.linalg.lstsq(A, B)[0]\n",
    "    results.append(XYZ)\n",
    "    residue_temp=np.matmul(A,XYZ)\n",
    "    residue=np.subtract(residue_temp,B)\n",
    "    residuals.append(residue)\n",
    "print(residuals)\n"
   ]
  },
  {
   "cell_type": "code",
   "execution_count": 108,
   "metadata": {},
   "outputs": [
    {
     "name": "stdout",
     "output_type": "stream",
     "text": [
      "0.194972950808\n",
      "2.69268120436\n"
     ]
    }
   ],
   "source": [
    "dist_3d = distance.euclidean(results[0],results[1])\n",
    "print(dist_3d)\n",
    "act_dist=0.525\n",
    "scl_fct=act_dist/dist_3d\n",
    "print(scl_fct)"
   ]
  },
  {
   "cell_type": "code",
   "execution_count": 109,
   "metadata": {},
   "outputs": [
    {
     "data": {
      "text/plain": [
       "array([[-2.51676011, -0.99985403,  1.99110997],\n",
       "       [-2.51255989, -0.99989402,  1.99322998],\n",
       "       [-2.61422992, -1.00093997,  1.90228999],\n",
       "       ..., \n",
       "       [-8.23834038,  0.729743  ,  2.52898002],\n",
       "       [-8.27867031,  0.73512203,  2.54648996],\n",
       "       [-8.27513982,  0.73940802,  2.54597997]])"
      ]
     },
     "execution_count": 109,
     "metadata": {},
     "output_type": "execute_result"
    }
   ],
   "source": [
    "from laspy.file import File\n",
    "from scipy.spatial import distance\n",
    "import numpy as np\n",
    "\n",
    "# Open a file in read mode:\n",
    "inFile=File(\"CAM_Dsense - las.las\")\n",
    "\n",
    "# Finding the neighbourhood points\n",
    "dataset=np.vstack([inFile.x, inFile.y, inFile.z]).transpose()\n",
    "dataset"
   ]
  },
  {
   "cell_type": "code",
   "execution_count": 110,
   "metadata": {},
   "outputs": [],
   "source": [
    "# Finding all points in the range of +-p in x,y,z directions\n",
    "p=1\n",
    "index_pos=np.where((dataset[:,0]>=results[0][0]-p)&(dataset[:,0]<=results[0][0]+p)&(dataset[:,1]>=results[0][1]-p)&(dataset[:,1]<=results[0][1]+p)&(dataset[:,2]>=results[0][2]-p)&(dataset[:,2]<=results[0][2]+p))\n",
    "# p=1\n",
    "# index_pos_2=np.where((dataset[:,0]>=XYZ2[0]-p)&(dataset[:,0]<=XYZ2[0]+p)&(dataset[:,1]>=XYZ2[1]-p)&(dataset[:,1]<=XYZ2[1]+p)&(dataset[:,2]>=XYZ2[2]-p)&(dataset[:,2]<=XYZ2[2]+p))"
   ]
  },
  {
   "cell_type": "code",
   "execution_count": 111,
   "metadata": {},
   "outputs": [
    {
     "name": "stdout",
     "output_type": "stream",
     "text": [
      "(0.013079470378342362, -5.0970997835453717, 0.48538899438527983, 2.701639893198136, 321837)\n"
     ]
    }
   ],
   "source": [
    "# Finding the distances of all points in the neighbourhood to the point in question and finding the nearest point\n",
    "dst=[]\n",
    "points = []\n",
    "aa=(XYZ[0][0],XYZ[1][0],XYZ[2][0])\n",
    "minx = 0\n",
    "miny = 0\n",
    "minz = 0\n",
    "min_dist =999999\n",
    "mini = 0\n",
    "    \n",
    "for i in range(len(index_pos[0])):\n",
    "     if (distance.euclidean(dataset[index_pos[0][i]],aa))<min_dist:\n",
    "            min_dist = distance.euclidean(dataset[index_pos[0][i]],aa)\n",
    "            minx = dataset[index_pos[0][i]][0]\n",
    "            miny = dataset[index_pos[0][i]][1]\n",
    "            minz = dataset[index_pos[0][i]][2]\n",
    "            mini = i\n",
    "                                                      \n",
    "print(min_dist, minx, miny, minz, index_pos[0][mini])                 "
   ]
  },
  {
   "cell_type": "code",
   "execution_count": 112,
   "metadata": {},
   "outputs": [
    {
     "name": "stdout",
     "output_type": "stream",
     "text": [
      "We're keeping 3727 points out of 691774 total\n"
     ]
    }
   ],
   "source": [
    "# Keeping all points in 0.5 unit distance radius\n",
    "pos=dataset[index_pos[0][mini]]\n",
    "distances=np.sum((dataset-pos)**2, axis=1)\n",
    "keep_points=distances<0.5\n",
    "points_kept=inFile.points[keep_points]\n",
    "print(\"We're keeping %i points out of %i total\"%(len(points_kept), len(inFile)))"
   ]
  },
  {
   "cell_type": "code",
   "execution_count": 113,
   "metadata": {},
   "outputs": [
    {
     "name": "stdout",
     "output_type": "stream",
     "text": [
      "matthias_schaub2.html\n"
     ]
    }
   ],
   "source": [
    "# Creating a webpage and naming it according to the user_name\n",
    "trimmedLAS=user_name+'.las'\n",
    "htmlDOC=user_name+'.html'\n",
    "print(htmlDOC)\n",
    "outFile=File(trimmedLAS, mode=\"w\", header=inFile.header)\n",
    "outFile.points=points_kept\n",
    "outFile.close()"
   ]
  },
  {
   "cell_type": "code",
   "execution_count": 114,
   "metadata": {},
   "outputs": [],
   "source": [
    "# Creating a text file log of all variables and observations\n",
    "save_path = 'C:/CrowdData/'\n",
    "name_of_file = user_name\n",
    "completeName = save_path + name_of_file+\".txt\"    \n",
    "file1 = open(completeName, \"w\")\n",
    "toFile = (\"\\bUser Name:\\b \\n\" + str(user_name) + \"\\n\\bUser Occupation:\\b \\n\" + str(user_occupation) + \"\\n\\bPoint1 Data:\\b0 \\n\" + str(rc) + \"\\n\\bPoint2 Data:\\b \\n\" + str(rc2) + \"\\n\\b3D Point1:\\b \\n\" + str(results[0]) +\"\\n\\b3D Point2:\\b \\n\"+ str(results[1]) + \"\\n\\b3D distance in point cloud:\\b \\n\" + str(dist_3d) + \"\\n\\bActual distance:\\b \\n\" + str(act_dist) + \"\\n\\bScaling Factor:\\b \\n\" + str(scl_fct)) \n",
    "file1.write(toFile)\n",
    "file1.close()\n"
   ]
  },
  {
   "cell_type": "code",
   "execution_count": 115,
   "metadata": {},
   "outputs": [
    {
     "data": {
      "text/plain": [
       "<open file 'C:\\\\PotreeConverter_1.5_windows_x64\\\\PotreeConverter.exe C:\\\\jupyterNotebook\\\\matthias_schaub2.las -o C:/xampp/htdocs/potree --generate-page matthias_schaub2', mode 'r' at 0x0000000060E4F930>"
      ]
     },
     "execution_count": 115,
     "metadata": {},
     "output_type": "execute_result"
    }
   ],
   "source": [
    "# Running potreeconverster CMD command from jupyter\n",
    "import os\n",
    "os.popen(\"C:\\PotreeConverter_1.5_windows_x64\\PotreeConverter.exe C:\\jupyterNotebook\\{0} -o C:/xampp/htdocs/potree --generate-page {1}\".format(trimmedLAS,user_name))\n"
   ]
  },
  {
   "cell_type": "code",
   "execution_count": 116,
   "metadata": {},
   "outputs": [
    {
     "name": "stdout",
     "output_type": "stream",
     "text": [
      "http://localhost/potree/matthias_schaub2.html\n"
     ]
    }
   ],
   "source": [
    "# Creating the local potree webpage\n",
    "html_address=str(\"http://localhost/potree/{0}\".format(htmlDOC))\n",
    "print(html_address)\n",
    "# *** PLEASE CLICK ON THE LINK BELOW ***"
   ]
  }
 ],
 "metadata": {
  "kernelspec": {
   "display_name": "Python 2",
   "language": "python",
   "name": "python2"
  },
  "language_info": {
   "codemirror_mode": {
    "name": "ipython",
    "version": 2
   },
   "file_extension": ".py",
   "mimetype": "text/x-python",
   "name": "python",
   "nbconvert_exporter": "python",
   "pygments_lexer": "ipython2",
   "version": "2.7.14"
  },
  "widgets": {
   "application/vnd.jupyter.widget-state+json": {
    "state": {},
    "version_major": 2,
    "version_minor": 0
   }
  }
 },
 "nbformat": 4,
 "nbformat_minor": 2
}
